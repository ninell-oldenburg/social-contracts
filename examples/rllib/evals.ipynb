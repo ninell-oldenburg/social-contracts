{
 "cells": [
  {
   "cell_type": "code",
   "execution_count": null,
   "metadata": {},
   "outputs": [],
   "source": [
    "from meltingpot.python.utils.policies.rule_obeying_policy import RuleObeyingPolicy\n",
    "from meltingpot.python.utils.policies.lambda_rules import DEFAULT_PROHIBITIONS, DEFAULT_OBLIGATIONS"
   ]
  },
  {
   "cell_type": "code",
   "execution_count": null,
   "metadata": {},
   "outputs": [],
   "source": [
    "# 1 get baseline\n",
    "BASELINE_SCENARIOS = [\n",
    "  (\"cleaner\",) * 1 + (\"farmer\",) * 0 + ('free',) * 0 + ('learner',) * 0,\n",
    "  (\"cleaner\",) * 0 + (\"farmer\",) * 1 + ('free',) * 0 + ('learner',) * 0,\n",
    "  (\"cleaner\",) * 0 + (\"farmer\",) * 0 + ('free',) * 1 + ('learner',) * 0,\n",
    "  (\"cleaner\",) * 1 + (\"farmer\",) * 1 + ('free',) * 0 + ('learner',) * 0,\n",
    "  (\"cleaner\",) * 1 + (\"farmer\",) * 1 + ('free',) * 1 + ('learner',) * 0,\n",
    "]\n",
    "\n",
    "TEST_SCENARIOS = [\n",
    "  (\"cleaner\",) * 1 + (\"farmer\",) * 0 + ('free',) * 0 + ('learner',) * 1,\n",
    "  (\"cleaner\",) * 0 + (\"farmer\",) * 1 + ('free',) * 0 + ('learner',) * 1,\n",
    "  (\"cleaner\",) * 0 + (\"farmer\",) * 0 + ('free',) * 1 + ('learner',) * 1,\n",
    "  (\"cleaner\",) * 1 + (\"farmer\",) * 1 + ('free',) * 0 + ('learner',) * 1,\n",
    "  (\"cleaner\",) * 1 + (\"farmer\",) * 1 + ('free',) * 1 + ('learner',) * 1,\n",
    "]"
   ]
  },
  {
   "cell_type": "code",
   "execution_count": null,
   "metadata": {},
   "outputs": [],
   "source": [
    "for i in range(len(BASELINE_SCENARIOS)):\n",
    "    config.default_player_roles = BASELINE_SCENARIOS[i]\n",
    "    # call view_custom_model.py\n",
    "    # save reward\n",
    "    # save learned rules\n",
    "\n",
    "# plot\n",
    "# template: https://github.com/deepmind/meltingpot/blob/main/notebooks/evaluation_results.ipynb"
   ]
  },
  {
   "cell_type": "code",
   "execution_count": null,
   "metadata": {},
   "outputs": [],
   "source": []
  }
 ],
 "metadata": {
  "language_info": {
   "name": "python"
  },
  "orig_nbformat": 4
 },
 "nbformat": 4,
 "nbformat_minor": 2
}
