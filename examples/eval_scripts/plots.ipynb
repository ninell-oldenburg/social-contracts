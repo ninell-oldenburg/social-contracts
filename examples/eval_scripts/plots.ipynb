{
 "cells": [
  {
   "cell_type": "code",
   "execution_count": 2,
   "metadata": {},
   "outputs": [],
   "source": [
    "# IMPORTS\n",
    "import pandas as pd\n",
    "import matplotlib.pyplot as plt\n",
    "import os"
   ]
  },
  {
   "cell_type": "code",
   "execution_count": null,
   "metadata": {},
   "outputs": [],
   "source": [
    "stats_signif = 13\n",
    "n_base_scenarios = 10\n",
    "n_test_scenarios = 8\n",
    "n_rule_scenarios = 32"
   ]
  },
  {
   "cell_type": "code",
   "execution_count": null,
   "metadata": {},
   "outputs": [],
   "source": [
    "baseline_dfs = [[]*n_base_scenarios]\n",
    "for scenario in range(n_base_scenarios):\n",
    "        for k in range(stats_signif):\n",
    "            baseline_df = pd.read_csv(f\"../results/base/scenario{scenario+1}/trial{k+1}.csv\")\n",
    "            baseline_dfs[scenario].append(baseline_df)"
   ]
  },
  {
   "cell_type": "code",
   "execution_count": null,
   "metadata": {},
   "outputs": [],
   "source": [
    "test_dfs = [[]*n_test_scenarios]\n",
    "for scenario in range(n_test_scenarios):\n",
    "        for k in range(13):\n",
    "            test_df = pd.read_csv(f\"../results/test/scenario{scenario+1}/trial{k+1}.csv\")\n",
    "            test_dfs.append(test_df)"
   ]
  },
  {
   "cell_type": "code",
   "execution_count": null,
   "metadata": {},
   "outputs": [],
   "source": [
    "rules_dfs = [[]*n_rule_scenarios]\n",
    "for scenario in range(n_rule_scenarios):\n",
    "        path = f\"../results/rule_trials/rule_set{scenario+1}/\"\n",
    "        for filename in os.listdir(path):\n",
    "            whole = path + filename\n",
    "            rules_df = pd.read_csv(whole)\n",
    "            # rules_df = pd.read_csv(f\"../results/rule_trials/rule_set{scenario+1}/trial{k+1}.csv\")\n",
    "            rules_dfs[scenario].append(rules_df)"
   ]
  },
  {
   "cell_type": "code",
   "execution_count": null,
   "metadata": {},
   "outputs": [],
   "source": []
  }
 ],
 "metadata": {
  "kernelspec": {
   "display_name": "Python 3",
   "language": "python",
   "name": "python3"
  },
  "language_info": {
   "codemirror_mode": {
    "name": "ipython",
    "version": 3
   },
   "file_extension": ".py",
   "mimetype": "text/x-python",
   "name": "python",
   "nbconvert_exporter": "python",
   "pygments_lexer": "ipython3",
   "version": "3.10.9"
  },
  "orig_nbformat": 4
 },
 "nbformat": 4,
 "nbformat_minor": 2
}
